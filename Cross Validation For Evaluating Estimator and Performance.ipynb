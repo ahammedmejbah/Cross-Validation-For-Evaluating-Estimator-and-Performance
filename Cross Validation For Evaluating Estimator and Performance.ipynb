{
 "cells": [
  {
   "cell_type": "markdown",
   "id": "a52db43d-115f-4255-ba8e-6fc999422aaf",
   "metadata": {},
   "source": [
    "<center><h2> Cross Validation For Evaluating Estimator and Performance</h2></center>\n",
    "<u><p>You can Follow me on: </p></u>\n",
    "\n",
    "<ol>\n",
    "<li><a href=\"https://web.facebook.com/ahammadmejbah\">Facebook</a></li>\n",
    "<li><a href=\"https://github.com/ahammadmejbah\">GitHub</a></li>\n",
    "<li><a href=\"https://www.kaggle.com/mejbahahammad\">Kaggle</a></li>\n",
    "<li><a href=\"https://www.linkedin.com/in/ahammadmejbah/\">Linkedin</a></li>\n",
    "</ol>"
   ]
  },
  {
   "cell_type": "code",
   "execution_count": 1,
   "id": "99628d0d-c0af-4754-8b5a-c99c5b3f41af",
   "metadata": {},
   "outputs": [],
   "source": [
    "import numpy as np\n",
    "from sklearn.model_selection import train_test_split\n",
    "from sklearn import datasets\n",
    "from sklearn import svm\n",
    "import matplotlib.pyplot as plt\n",
    "%matplotlib inline"
   ]
  },
  {
   "cell_type": "code",
   "execution_count": 2,
   "id": "3f41ba7c-b44b-42f3-bd94-00808cd1f1da",
   "metadata": {},
   "outputs": [],
   "source": [
    "iris_datasets = datasets.load_iris()"
   ]
  },
  {
   "cell_type": "code",
   "execution_count": 3,
   "id": "7e1a3ce5-6ed9-42a9-b421-52e37d0aa27d",
   "metadata": {},
   "outputs": [
    {
     "name": "stdout",
     "output_type": "stream",
     "text": [
      "Data Datasets Shape:\t (150, 4)\n",
      "Target Datasets Shape:\t (150,)\n"
     ]
    }
   ],
   "source": [
    "print(\"Data Datasets Shape:\\t\", iris_datasets.data.shape)\n",
    "print(\"Target Datasets Shape:\\t\", iris_datasets.target.shape)"
   ]
  },
  {
   "cell_type": "code",
   "execution_count": 4,
   "id": "85d8a339-9a3d-439b-946b-f98c8c3041f1",
   "metadata": {},
   "outputs": [],
   "source": [
    "X_trainDatasets, X_testDatasets, Y_trainDatasets, Y_testDatasets = train_test_split(iris_datasets.data,\n",
    "                                                                                   iris_datasets.target,\n",
    "                                                                                   test_size = 0.4,\n",
    "                                                                                   random_state = 0)"
   ]
  },
  {
   "cell_type": "code",
   "execution_count": 5,
   "id": "8eb4f5f2-da41-4784-a9fc-9214db4e52f6",
   "metadata": {},
   "outputs": [
    {
     "name": "stdout",
     "output_type": "stream",
     "text": [
      "Train Datasets Shape: \t (90, 4)\n",
      "Test Datasets Shape: \t (60, 4)\n"
     ]
    }
   ],
   "source": [
    "print(\"Train Datasets Shape: \\t\", X_trainDatasets.shape)\n",
    "print(\"Test Datasets Shape: \\t\", X_testDatasets.shape)"
   ]
  },
  {
   "cell_type": "code",
   "execution_count": 6,
   "id": "6294d6c9-2214-4293-a9fb-0327b56ebd77",
   "metadata": {},
   "outputs": [],
   "source": [
    "clf = svm.SVC(kernel = 'linear', C = 1).fit(X_trainDatasets, Y_trainDatasets)"
   ]
  },
  {
   "cell_type": "code",
   "execution_count": 7,
   "id": "9eb415e8-098b-420f-a166-60d6f38a9f4e",
   "metadata": {},
   "outputs": [
    {
     "data": {
      "text/plain": [
       "0.9888888888888889"
      ]
     },
     "execution_count": 7,
     "metadata": {},
     "output_type": "execute_result"
    }
   ],
   "source": [
    "clf.score(X_trainDatasets, Y_trainDatasets)"
   ]
  },
  {
   "cell_type": "code",
   "execution_count": 8,
   "id": "11320e4b-1bb0-4fce-b116-cf1fca59912c",
   "metadata": {},
   "outputs": [
    {
     "data": {
      "text/plain": [
       "0.9666666666666667"
      ]
     },
     "execution_count": 8,
     "metadata": {},
     "output_type": "execute_result"
    }
   ],
   "source": [
    "clf.score(X_testDatasets, Y_testDatasets)"
   ]
  },
  {
   "cell_type": "code",
   "execution_count": 9,
   "id": "73500b01-80d7-4817-810a-39179aae07a1",
   "metadata": {},
   "outputs": [],
   "source": [
    "from sklearn.model_selection import cross_val_score"
   ]
  },
  {
   "cell_type": "code",
   "execution_count": 10,
   "id": "b5ec7fa4-5567-4954-a572-d7f6231be2ef",
   "metadata": {},
   "outputs": [],
   "source": [
    "clf = svm.SVC(kernel='linear',C = 1)\n",
    "scores = cross_val_score(clf, iris_datasets.data, iris_datasets.target, cv = 2)"
   ]
  },
  {
   "cell_type": "code",
   "execution_count": 11,
   "id": "fa23e128-812c-41a3-accc-198156f953c3",
   "metadata": {},
   "outputs": [
    {
     "name": "stdout",
     "output_type": "stream",
     "text": [
      "Scores : \t [0.98666667 0.94666667]\n"
     ]
    }
   ],
   "source": [
    "print(\"Scores : \\t\", scores)"
   ]
  },
  {
   "cell_type": "code",
   "execution_count": 12,
   "id": "fce08cdb-a143-49e8-885c-9db054e56f9e",
   "metadata": {},
   "outputs": [
    {
     "name": "stdout",
     "output_type": "stream",
     "text": [
      "Accuracy : 0.97 (+/ 0.04)\n"
     ]
    }
   ],
   "source": [
    "print(\"Accuracy : %0.2f (+/ %0.2f)\"%(scores.mean(), scores.std()*2))"
   ]
  },
  {
   "cell_type": "code",
   "execution_count": 13,
   "id": "2eb8b4d7-5fca-473a-85c2-8716dfeae02c",
   "metadata": {},
   "outputs": [],
   "source": [
    "from sklearn import metrics\n",
    "scores = cross_val_score(clf, iris_datasets.data,\n",
    "                        iris_datasets.target, \n",
    "                        cv = 5, \n",
    "                        scoring = 'f1_macro')"
   ]
  },
  {
   "cell_type": "code",
   "execution_count": 14,
   "id": "5f0514b2-d04b-4190-a534-c83a25042ab1",
   "metadata": {},
   "outputs": [
    {
     "name": "stdout",
     "output_type": "stream",
     "text": [
      "Score : \t [0.96658312 1.         0.96658312 0.96658312 1.        ]\n"
     ]
    }
   ],
   "source": [
    "print(\"Score : \\t\", scores)"
   ]
  },
  {
   "cell_type": "code",
   "execution_count": 15,
   "id": "54846039-1598-4d3a-a95f-9df751858d86",
   "metadata": {},
   "outputs": [
    {
     "data": {
      "text/plain": [
       "array([0.97777778, 0.97777778, 1.        ])"
      ]
     },
     "execution_count": 15,
     "metadata": {},
     "output_type": "execute_result"
    }
   ],
   "source": [
    "from sklearn.model_selection import ShuffleSplit\n",
    "\n",
    "cross_validation_shuffle = ShuffleSplit(n_splits=3,\n",
    "                                        test_size = 0.3,\n",
    "                                       random_state=0)\n",
    "cross_val_score(clf, iris_datasets.data, iris_datasets.target, cv = cross_validation_shuffle)"
   ]
  },
  {
   "cell_type": "code",
   "execution_count": 16,
   "id": "0a0e9186-b223-46d0-94ce-15253db75633",
   "metadata": {},
   "outputs": [
    {
     "name": "stdout",
     "output_type": "stream",
     "text": [
      "Predicted Results : \n",
      " [0 0 0 0 0 0 0 0 0 0 0 0 0 0 0 0 0 0 0 0 0 0 0 0 0 0 0 0 0 0 0 0 0 0 0 0 0\n",
      " 0 0 0 0 0 0 0 0 0 0 0 0 0 1 1 1 1 1 1 1 1 1 1 1 1 1 1 1 1 1 1 1 1 2 1 2 1\n",
      " 1 1 1 1 1 1 1 1 1 2 1 1 1 1 1 1 1 1 1 1 1 1 1 1 1 1 2 2 2 2 2 2 1 2 2 2 2\n",
      " 2 2 2 2 2 2 2 2 2 2 2 2 2 2 2 2 2 2 2 2 2 2 2 2 2 2 2 2 2 2 2 2 2 2 2 2 2\n",
      " 2 2]\n"
     ]
    }
   ],
   "source": [
    "from sklearn.model_selection import cross_val_predict\n",
    "predicted_result = cross_val_predict(clf, iris_datasets.data, iris_datasets.target, cv = 10)\n",
    "print(\"Predicted Results : \\n\", predicted_result)"
   ]
  },
  {
   "cell_type": "code",
   "execution_count": 17,
   "id": "9d254740-dace-4a00-8708-a01b79bbfb74",
   "metadata": {},
   "outputs": [
    {
     "name": "stdout",
     "output_type": "stream",
     "text": [
      "Accuracy Score: \t 0.9733333333333334\n"
     ]
    }
   ],
   "source": [
    "from sklearn import metrics\n",
    "accuracyScore = metrics.accuracy_score(iris_datasets.target, predicted_result)\n",
    "print(\"Accuracy Score: \\t\", accuracyScore)"
   ]
  }
 ],
 "metadata": {
  "kernelspec": {
   "display_name": "Python 3 (ipykernel)",
   "language": "python",
   "name": "python3"
  },
  "language_info": {
   "codemirror_mode": {
    "name": "ipython",
    "version": 3
   },
   "file_extension": ".py",
   "mimetype": "text/x-python",
   "name": "python",
   "nbconvert_exporter": "python",
   "pygments_lexer": "ipython3",
   "version": "3.7.11"
  }
 },
 "nbformat": 4,
 "nbformat_minor": 5
}
